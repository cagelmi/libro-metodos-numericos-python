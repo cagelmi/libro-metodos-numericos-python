import numpy as np
from scipy.integrate import solve_ivp
import matplotlib.pyplot as plt

# Sistema de ecuaciones diferenciales y constantes
def prob1(t, c):
    # Parameters
    k1f = 2.0   # 1/h
    k1r = 1.0   # 1/h
    k2 = 1.25   # 1/h

    # Modelo
    dc1dt = -k1f*c[0] + k1r*c[1]
    dc2dt = k1f*c[0] - (k1r + k2)*c[1]
    dc3dt = k2*c[1]
    return [dc1dt, dc2dt, dc3dt]

# Condiciones iniciales
c0 = [1.0, 0.0, 0.0]

# Intervalo y puntos específicos de tiempo
t_span = (0, 5)
t = np.linspace(0, 5, 1000)  # La solución se evaluará en estos puntos

# Integración del modelo
sol = solve_ivp(prob1, t_span, c0, t_eval=t, method='RK45')
CA, CB, CC = sol.y

# Gráficos
plt.figure(figsize=(8, 6))
plt.plot(t, CA, 'k', label='A')
plt.plot(t, CB, 'k', label='B', lw=3)
plt.plot(t, CC, 'k--', label='C')
plt.xlabel('Tiempo (h)', fontsize=14)
plt.ylabel('Concentración (mol/L)', fontsize=14)
plt.xlim(0, 5)
plt.ylim(0, 1)
plt.legend()
plt.tick_params(axis='both', labelsize=14)
plt.show()

# Calcula la concentración máxima de B y el tiempo que demora en alcanzarse
max_B = np.max(CB)
pos_B = np.argmax(CB)
tpo_max_B = t[pos_B]
print(f"Máxima concentración de B: {round(max_B,3)}")
print(f"Tiempo en alcanzar el máximo de B: {round(tpo_max_B,3)} horas.")
